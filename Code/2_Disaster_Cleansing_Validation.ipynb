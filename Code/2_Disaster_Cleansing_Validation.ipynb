{
 "cells": [
  {
   "cell_type": "markdown",
   "metadata": {},
   "source": [
    "# Cleaning and Validating Disasters"
   ]
  },
  {
   "cell_type": "markdown",
   "metadata": {},
   "source": [
    "## Read in Data Set"
   ]
  },
  {
   "cell_type": "code",
   "execution_count": 7,
   "metadata": {},
   "outputs": [
    {
     "data": {
      "text/plain": [
       "(15369, 50)"
      ]
     },
     "execution_count": 7,
     "metadata": {},
     "output_type": "execute_result"
    }
   ],
   "source": [
    "import pandas as pd\n",
    "disaster_input_df = pd.read_csv('../data/disaster-data.csv')\n",
    "disaster_input_df.shape"
   ]
  },
  {
   "cell_type": "markdown",
   "metadata": {},
   "source": [
    "## Make the column names nicer"
   ]
  },
  {
   "cell_type": "code",
   "execution_count": 8,
   "metadata": {},
   "outputs": [
    {
     "name": "stderr",
     "output_type": "stream",
     "text": [
      "/var/folders/9z/pl3bh9vj68q7tft145s0qv700000gp/T/ipykernel_34015/1882208712.py:4: FutureWarning: The default value of regex will change from True to False in a future version.\n",
      "  disaster_input_df.columns = disaster_input_df.columns.str.replace('[\\s]','_').str.lower()\n",
      "/var/folders/9z/pl3bh9vj68q7tft145s0qv700000gp/T/ipykernel_34015/1882208712.py:7: FutureWarning: The default value of regex will change from True to False in a future version.\n",
      "  disaster_input_df.columns = disaster_input_df.columns.str.replace(\"_\\('000_us\\$\\)\",\"\")\n"
     ]
    },
    {
     "data": {
      "text/html": [
       "<div>\n",
       "<style scoped>\n",
       "    .dataframe tbody tr th:only-of-type {\n",
       "        vertical-align: middle;\n",
       "    }\n",
       "\n",
       "    .dataframe tbody tr th {\n",
       "        vertical-align: top;\n",
       "    }\n",
       "\n",
       "    .dataframe thead th {\n",
       "        text-align: right;\n",
       "    }\n",
       "</style>\n",
       "<table border=\"1\" class=\"dataframe\">\n",
       "  <thead>\n",
       "    <tr style=\"text-align: right;\">\n",
       "      <th></th>\n",
       "      <th>year</th>\n",
       "      <th>start_year</th>\n",
       "      <th>start_month</th>\n",
       "      <th>start_day</th>\n",
       "      <th>disaster_subgroup</th>\n",
       "      <th>disaster_type</th>\n",
       "      <th>country</th>\n",
       "      <th>iso_code</th>\n",
       "      <th>total_deaths</th>\n",
       "      <th>no_injured</th>\n",
       "      <th>no_affected</th>\n",
       "      <th>no_homeless</th>\n",
       "      <th>total_affected</th>\n",
       "      <th>total_damages</th>\n",
       "      <th>total_damages_adjusted</th>\n",
       "      <th>cpi</th>\n",
       "    </tr>\n",
       "  </thead>\n",
       "  <tbody>\n",
       "    <tr>\n",
       "      <th>0</th>\n",
       "      <td>1957</td>\n",
       "      <td>1957</td>\n",
       "      <td>12.0</td>\n",
       "      <td>NaN</td>\n",
       "      <td>Hydrological</td>\n",
       "      <td>Flood</td>\n",
       "      <td>Brazil</td>\n",
       "      <td>BRA</td>\n",
       "      <td>112.0</td>\n",
       "      <td>NaN</td>\n",
       "      <td>NaN</td>\n",
       "      <td>NaN</td>\n",
       "      <td>NaN</td>\n",
       "      <td>NaN</td>\n",
       "      <td>NaN</td>\n",
       "      <td>10.854113</td>\n",
       "    </tr>\n",
       "    <tr>\n",
       "      <th>1</th>\n",
       "      <td>1957</td>\n",
       "      <td>1957</td>\n",
       "      <td>7.0</td>\n",
       "      <td>NaN</td>\n",
       "      <td>Hydrological</td>\n",
       "      <td>Flood</td>\n",
       "      <td>China</td>\n",
       "      <td>CHN</td>\n",
       "      <td>560.0</td>\n",
       "      <td>NaN</td>\n",
       "      <td>NaN</td>\n",
       "      <td>NaN</td>\n",
       "      <td>NaN</td>\n",
       "      <td>NaN</td>\n",
       "      <td>NaN</td>\n",
       "      <td>10.854113</td>\n",
       "    </tr>\n",
       "    <tr>\n",
       "      <th>2</th>\n",
       "      <td>1957</td>\n",
       "      <td>1957</td>\n",
       "      <td>10.0</td>\n",
       "      <td>NaN</td>\n",
       "      <td>Hydrological</td>\n",
       "      <td>Flood</td>\n",
       "      <td>Spain</td>\n",
       "      <td>ESP</td>\n",
       "      <td>77.0</td>\n",
       "      <td>NaN</td>\n",
       "      <td>NaN</td>\n",
       "      <td>NaN</td>\n",
       "      <td>NaN</td>\n",
       "      <td>NaN</td>\n",
       "      <td>NaN</td>\n",
       "      <td>10.854113</td>\n",
       "    </tr>\n",
       "    <tr>\n",
       "      <th>3</th>\n",
       "      <td>1957</td>\n",
       "      <td>1957</td>\n",
       "      <td>9.0</td>\n",
       "      <td>20.0</td>\n",
       "      <td>Meteorological</td>\n",
       "      <td>Storm</td>\n",
       "      <td>Hong Kong</td>\n",
       "      <td>HKG</td>\n",
       "      <td>8.0</td>\n",
       "      <td>111.0</td>\n",
       "      <td>NaN</td>\n",
       "      <td>NaN</td>\n",
       "      <td>111.0</td>\n",
       "      <td>NaN</td>\n",
       "      <td>NaN</td>\n",
       "      <td>10.854113</td>\n",
       "    </tr>\n",
       "    <tr>\n",
       "      <th>4</th>\n",
       "      <td>1958</td>\n",
       "      <td>1958</td>\n",
       "      <td>7.0</td>\n",
       "      <td>NaN</td>\n",
       "      <td>Hydrological</td>\n",
       "      <td>Flood</td>\n",
       "      <td>Argentina</td>\n",
       "      <td>ARG</td>\n",
       "      <td>360.0</td>\n",
       "      <td>NaN</td>\n",
       "      <td>NaN</td>\n",
       "      <td>NaN</td>\n",
       "      <td>NaN</td>\n",
       "      <td>NaN</td>\n",
       "      <td>NaN</td>\n",
       "      <td>11.150344</td>\n",
       "    </tr>\n",
       "    <tr>\n",
       "      <th>...</th>\n",
       "      <td>...</td>\n",
       "      <td>...</td>\n",
       "      <td>...</td>\n",
       "      <td>...</td>\n",
       "      <td>...</td>\n",
       "      <td>...</td>\n",
       "      <td>...</td>\n",
       "      <td>...</td>\n",
       "      <td>...</td>\n",
       "      <td>...</td>\n",
       "      <td>...</td>\n",
       "      <td>...</td>\n",
       "      <td>...</td>\n",
       "      <td>...</td>\n",
       "      <td>...</td>\n",
       "      <td>...</td>\n",
       "    </tr>\n",
       "    <tr>\n",
       "      <th>15364</th>\n",
       "      <td>2021</td>\n",
       "      <td>2021</td>\n",
       "      <td>7.0</td>\n",
       "      <td>16.0</td>\n",
       "      <td>Hydrological</td>\n",
       "      <td>Flood</td>\n",
       "      <td>Yemen</td>\n",
       "      <td>YEM</td>\n",
       "      <td>11.0</td>\n",
       "      <td>NaN</td>\n",
       "      <td>67980.0</td>\n",
       "      <td>NaN</td>\n",
       "      <td>67980.0</td>\n",
       "      <td>NaN</td>\n",
       "      <td>NaN</td>\n",
       "      <td>NaN</td>\n",
       "    </tr>\n",
       "    <tr>\n",
       "      <th>15365</th>\n",
       "      <td>2021</td>\n",
       "      <td>2021</td>\n",
       "      <td>2.0</td>\n",
       "      <td>1.0</td>\n",
       "      <td>Hydrological</td>\n",
       "      <td>Flood</td>\n",
       "      <td>South Africa</td>\n",
       "      <td>ZAF</td>\n",
       "      <td>31.0</td>\n",
       "      <td>NaN</td>\n",
       "      <td>400.0</td>\n",
       "      <td>NaN</td>\n",
       "      <td>400.0</td>\n",
       "      <td>75000.0</td>\n",
       "      <td>NaN</td>\n",
       "      <td>NaN</td>\n",
       "    </tr>\n",
       "    <tr>\n",
       "      <th>15366</th>\n",
       "      <td>2021</td>\n",
       "      <td>2021</td>\n",
       "      <td>9.0</td>\n",
       "      <td>7.0</td>\n",
       "      <td>Biological</td>\n",
       "      <td>Epidemic</td>\n",
       "      <td>Democratic Republic of Congo</td>\n",
       "      <td>COD</td>\n",
       "      <td>131.0</td>\n",
       "      <td>301.0</td>\n",
       "      <td>NaN</td>\n",
       "      <td>NaN</td>\n",
       "      <td>301.0</td>\n",
       "      <td>NaN</td>\n",
       "      <td>NaN</td>\n",
       "      <td>NaN</td>\n",
       "    </tr>\n",
       "    <tr>\n",
       "      <th>15367</th>\n",
       "      <td>2021</td>\n",
       "      <td>2021</td>\n",
       "      <td>1.0</td>\n",
       "      <td>11.0</td>\n",
       "      <td>Hydrological</td>\n",
       "      <td>Flood</td>\n",
       "      <td>Serbia</td>\n",
       "      <td>SRB</td>\n",
       "      <td>NaN</td>\n",
       "      <td>NaN</td>\n",
       "      <td>22.0</td>\n",
       "      <td>NaN</td>\n",
       "      <td>22.0</td>\n",
       "      <td>NaN</td>\n",
       "      <td>NaN</td>\n",
       "      <td>NaN</td>\n",
       "    </tr>\n",
       "    <tr>\n",
       "      <th>15368</th>\n",
       "      <td>2021</td>\n",
       "      <td>2021</td>\n",
       "      <td>5.0</td>\n",
       "      <td>NaN</td>\n",
       "      <td>Hydrological</td>\n",
       "      <td>Flood</td>\n",
       "      <td>South Sudan</td>\n",
       "      <td>SSD</td>\n",
       "      <td>7.0</td>\n",
       "      <td>NaN</td>\n",
       "      <td>623000.0</td>\n",
       "      <td>NaN</td>\n",
       "      <td>623000.0</td>\n",
       "      <td>NaN</td>\n",
       "      <td>NaN</td>\n",
       "      <td>NaN</td>\n",
       "    </tr>\n",
       "  </tbody>\n",
       "</table>\n",
       "<p>15369 rows × 16 columns</p>\n",
       "</div>"
      ],
      "text/plain": [
       "       year  start_year  start_month  start_day disaster_subgroup  \\\n",
       "0      1957        1957         12.0        NaN      Hydrological   \n",
       "1      1957        1957          7.0        NaN      Hydrological   \n",
       "2      1957        1957         10.0        NaN      Hydrological   \n",
       "3      1957        1957          9.0       20.0    Meteorological   \n",
       "4      1958        1958          7.0        NaN      Hydrological   \n",
       "...     ...         ...          ...        ...               ...   \n",
       "15364  2021        2021          7.0       16.0      Hydrological   \n",
       "15365  2021        2021          2.0        1.0      Hydrological   \n",
       "15366  2021        2021          9.0        7.0        Biological   \n",
       "15367  2021        2021          1.0       11.0      Hydrological   \n",
       "15368  2021        2021          5.0        NaN      Hydrological   \n",
       "\n",
       "      disaster_type                       country iso_code  total_deaths  \\\n",
       "0             Flood                        Brazil      BRA         112.0   \n",
       "1             Flood                         China      CHN         560.0   \n",
       "2             Flood                         Spain      ESP          77.0   \n",
       "3             Storm                     Hong Kong      HKG           8.0   \n",
       "4             Flood                     Argentina      ARG         360.0   \n",
       "...             ...                           ...      ...           ...   \n",
       "15364         Flood                         Yemen      YEM          11.0   \n",
       "15365         Flood                  South Africa      ZAF          31.0   \n",
       "15366      Epidemic  Democratic Republic of Congo      COD         131.0   \n",
       "15367         Flood                        Serbia      SRB           NaN   \n",
       "15368         Flood                   South Sudan      SSD           7.0   \n",
       "\n",
       "       no_injured  no_affected  no_homeless  total_affected  total_damages  \\\n",
       "0             NaN          NaN          NaN             NaN            NaN   \n",
       "1             NaN          NaN          NaN             NaN            NaN   \n",
       "2             NaN          NaN          NaN             NaN            NaN   \n",
       "3           111.0          NaN          NaN           111.0            NaN   \n",
       "4             NaN          NaN          NaN             NaN            NaN   \n",
       "...           ...          ...          ...             ...            ...   \n",
       "15364         NaN      67980.0          NaN         67980.0            NaN   \n",
       "15365         NaN        400.0          NaN           400.0        75000.0   \n",
       "15366       301.0          NaN          NaN           301.0            NaN   \n",
       "15367         NaN         22.0          NaN            22.0            NaN   \n",
       "15368         NaN     623000.0          NaN        623000.0            NaN   \n",
       "\n",
       "       total_damages_adjusted        cpi  \n",
       "0                         NaN  10.854113  \n",
       "1                         NaN  10.854113  \n",
       "2                         NaN  10.854113  \n",
       "3                         NaN  10.854113  \n",
       "4                         NaN  11.150344  \n",
       "...                       ...        ...  \n",
       "15364                     NaN        NaN  \n",
       "15365                     NaN        NaN  \n",
       "15366                     NaN        NaN  \n",
       "15367                     NaN        NaN  \n",
       "15368                     NaN        NaN  \n",
       "\n",
       "[15369 rows x 16 columns]"
      ]
     },
     "execution_count": 8,
     "metadata": {},
     "output_type": "execute_result"
    }
   ],
   "source": [
    "import re\n",
    "\n",
    "# replace spaces with underscores and lowercase\n",
    "disaster_input_df.columns = disaster_input_df.columns.str.replace('[\\s]','_').str.lower()\n",
    "\n",
    "# remove that funky 000_us$ and commas\n",
    "disaster_input_df.columns = disaster_input_df.columns.str.replace(\"_\\('000_us\\$\\)\",\"\")\n",
    "disaster_input_df.columns = disaster_input_df.columns.str.replace(',','')\n",
    "\n",
    "# lets rename some of the countries and remove parenthesis\n",
    "def rename_countries(var):\n",
    "    nice_name = {\"Russian Federation\":\"Russia\",\"Korea (the Democratic People''s Republic of)\":\"North Korea\" \\\n",
    "        , \"Korea (the Republic of)\":\"South Korea\", \"Congo (the Democratic Republic of the)\":\"Democratic Republic of Congo\",\"Congo\":\"Democratic Republic of Congo\"}\n",
    "    if var == 'Congo':\n",
    "        print(\"Congo\"+var)\n",
    "\n",
    "    return nice_name.get(str(var), var)\n",
    "\n",
    "disaster_input_df['country'] = disaster_input_df['country'].apply(rename_countries)    \n",
    "\n",
    "disaster_input_df['country'] =  [re.sub(' \\((.*?)\\)','',x) for x in disaster_input_df.country]\n",
    "\n",
    "# subset to only Natural disasters\n",
    "disaster_input_df = disaster_input_df[disaster_input_df['disaster_group'] == \"Natural\"]\n",
    "\n",
    "# rename columns to match co2 dataset\n",
    "disaster_input_df.rename(columns={\"iso\":\"iso_code\"}, inplace=True)\n",
    "disaster_df = disaster_input_df[['year','start_year','start_month','start_day','disaster_subgroup', 'disaster_type', 'country','iso_code','total_deaths','no_injured','no_affected','no_homeless','total_affected','total_damages','total_damages_adjusted','cpi']].copy()\n",
    "\n",
    "# write out for future analysis\n",
    "disaster_df.to_pickle(\"../data/disaster-data.pkl\")\n",
    "disaster_df\n"
   ]
  },
  {
   "cell_type": "markdown",
   "metadata": {},
   "source": [
    "## Lets make a date"
   ]
  },
  {
   "cell_type": "code",
   "execution_count": 9,
   "metadata": {},
   "outputs": [],
   "source": [
    "date_cols = ['start_year','start_month','start_day']\n",
    "disaster_df[date_cols[1:]] = disaster_df[date_cols[1:]].fillna(value=1).astype(int)\n",
    "disaster_df['start_date'] = disaster_df[date_cols].apply(lambda x: '-'.join(x.values.astype(str)),axis='columns')\n"
   ]
  },
  {
   "cell_type": "code",
   "execution_count": 10,
   "metadata": {},
   "outputs": [
    {
     "name": "stdout",
     "output_type": "stream",
     "text": [
      "0   1957-12-01\n",
      "1   1957-07-01\n",
      "2   1957-10-01\n",
      "3   1957-09-20\n",
      "4   1958-07-01\n",
      "5   1958-05-01\n",
      "6   1958-10-20\n",
      "7   1958-09-01\n",
      "8   1958-01-07\n",
      "9   1958-09-30\n",
      "Name: start_date, dtype: datetime64[ns]\n"
     ]
    },
    {
     "data": {
      "text/plain": [
       "<AxesSubplot:>"
      ]
     },
     "execution_count": 10,
     "metadata": {},
     "output_type": "execute_result"
    },
    {
     "data": {
      "image/png": "[encoded data removed]",
      "text/plain": [
       "<Figure size 432x288 with 1 Axes>"
      ]
     },
     "metadata": {
      "needs_background": "light"
     },
     "output_type": "display_data"
    }
   ],
   "source": [
    "disaster_df.start_date = pd.to_datetime(disaster_df.start_date,errors=\"coerce\")\n",
    "print(disaster_df.start_date.head(10))\n",
    "disaster_df.start_date.hist()"
   ]
  },
  {
   "cell_type": "markdown",
   "metadata": {},
   "source": [
    "## Lets work on disaster_type!"
   ]
  },
  {
   "cell_type": "code",
   "execution_count": 11,
   "metadata": {},
   "outputs": [
    {
     "name": "stdout",
     "output_type": "stream",
     "text": [
      "count     15369\n",
      "unique       14\n",
      "top       Flood\n",
      "freq       5476\n",
      "Name: disaster_type, dtype: object\n",
      "Flood                    5476\n",
      "Storm                    4262\n",
      "Epidemic                 1474\n",
      "Earthquake               1243\n",
      "Landslide                 742\n",
      "Drought                   738\n",
      "Extreme temperature       595\n",
      "Wildfire                  464\n",
      "Volcanic activity         235\n",
      "Insect infestation         93\n",
      "Mass movement (dry)        43\n",
      "Glacial lake outburst       2\n",
      "Impact                      1\n",
      "Animal accident             1\n",
      "Name: disaster_type, dtype: int64\n"
     ]
    }
   ],
   "source": [
    "print(disaster_df['disaster_type'].describe())\n",
    "print(disaster_df['disaster_type'].value_counts())"
   ]
  },
  {
   "cell_type": "markdown",
   "metadata": {},
   "source": [
    "## Lets look at Countries!"
   ]
  },
  {
   "cell_type": "code",
   "execution_count": 12,
   "metadata": {},
   "outputs": [
    {
     "name": "stdout",
     "output_type": "stream",
     "text": [
      "count                        15369\n",
      "unique                         227\n",
      "top       United States of America\n",
      "freq                           999\n",
      "Name: country, dtype: object\n"
     ]
    },
    {
     "data": {
      "text/plain": [
       "United States of America                        999\n",
       "China                                           917\n",
       "India                                           713\n",
       "Philippines                                     641\n",
       "Indonesia                                       552\n",
       "                                               ... \n",
       "United Arab Emirates                              1\n",
       "Equatorial Guinea                                 1\n",
       "Saint Helena, Ascension and Tristan da Cunha      1\n",
       "Brunei Darussalam                                 1\n",
       "Isle of Man                                       1\n",
       "Name: country, Length: 227, dtype: int64"
      ]
     },
     "execution_count": 12,
     "metadata": {},
     "output_type": "execute_result"
    }
   ],
   "source": [
    "print(disaster_df.country.describe())\n",
    "disaster_df.country.value_counts()"
   ]
  }
 ],
 "metadata": {
  "interpreter": {
   "hash": "f5338f6b7e4b4b71d7f75de208e8d1538cba177007ba03febef342a5482f22cd"
  },
  "kernelspec": {
   "display_name": "Python 3.9.6 64-bit ('py3jp': conda)",
   "language": "python",
   "name": "python3"
  },
  "language_info": {
   "codemirror_mode": {
    "name": "ipython",
    "version": 3
   },
   "file_extension": ".py",
   "mimetype": "text/x-python",
   "name": "python",
   "nbconvert_exporter": "python",
   "pygments_lexer": "ipython3",
   "version": "3.9.7"
  },
  "orig_nbformat": 4
 },
 "nbformat": 4,
 "nbformat_minor": 2
}
